{
 "cells": [
  {
   "cell_type": "markdown",
   "metadata": {},
   "source": [
    "Author: A.Radhakrishnan, GFDL\n"
   ]
  },
  {
   "cell_type": "code",
   "execution_count": 2,
   "metadata": {},
   "outputs": [],
   "source": [
    "import xarray as xr\n",
    "import intake\n",
    "import intake_esm\n",
    "import sys\n",
    "#from dask_gateway import Gateway\n",
    "import pandas as pd\n",
    "pd.set_option(\"display.max_colwidth\", None)\n",
    "pd.options.display.max_rows = None\n",
    "import matplotlib.pyplot as plt\n"
   ]
  },
  {
   "cell_type": "code",
   "execution_count": 3,
   "metadata": {},
   "outputs": [],
   "source": [
    "def launchDask(options):\n",
    "    #TODO try, except\n",
    "    gateway = Gateway()\n",
    "    clusters = gateway.list_clusters()\n",
    "    clusters\n",
    "    if len(clusters) >0:\n",
    "        cluster = gateway.connect(clusters[0].name)\n",
    "        print(\"using existing connection\")#or shut down and start afresh cluster.shutdown(). otherwise I dunno how to apply custom options\n",
    "        cluster.shutdown()\n",
    "        cluster = gateway.new_cluster(options)\n",
    "    else:\n",
    "        cluster = gateway.new_cluster(options)\n",
    "    return(cluster)"
   ]
  },
  {
   "cell_type": "code",
   "execution_count": 3,
   "metadata": {},
   "outputs": [],
   "source": [
    "gateway = Gateway()\n",
    "options = gateway.cluster_options()\n",
    "options.worker_memory=8\n",
    "cluster = launchDask(options)"
   ]
  },
  {
   "cell_type": "code",
   "execution_count": 4,
   "metadata": {},
   "outputs": [],
   "source": [
    "min_w = 2\n",
    "max_w = 15 \n",
    "cluster.adapt(minimum=min_w, maximum=max_w)"
   ]
  },
  {
   "cell_type": "code",
   "execution_count": 5,
   "metadata": {},
   "outputs": [
    {
     "data": {
      "text/html": [
       "<table style=\"border: 2px solid white;\">\n",
       "<tr>\n",
       "<td style=\"vertical-align: top; border: 0px solid white\">\n",
       "<h3 style=\"text-align: left;\">Client</h3>\n",
       "<ul style=\"text-align: left; list-style: none; margin: 0; padding: 0;\">\n",
       "  <li><b>Scheduler: </b>gateway://traefik-daskhub-dask-gateway.daskhub:80/daskhub.f939c31cbe7e4ba998a6fb0edd714717</li>\n",
       "  <li><b>Dashboard: </b><a href='/services/dask-gateway/clusters/daskhub.f939c31cbe7e4ba998a6fb0edd714717/status' target='_blank'>/services/dask-gateway/clusters/daskhub.f939c31cbe7e4ba998a6fb0edd714717/status</a></li>\n",
       "</ul>\n",
       "</td>\n",
       "<td style=\"vertical-align: top; border: 0px solid white\">\n",
       "<h3 style=\"text-align: left;\">Cluster</h3>\n",
       "<ul style=\"text-align: left; list-style:none; margin: 0; padding: 0;\">\n",
       "  <li><b>Workers: </b>0</li>\n",
       "  <li><b>Cores: </b>0</li>\n",
       "  <li><b>Memory: </b>0 B</li>\n",
       "</ul>\n",
       "</td>\n",
       "</tr>\n",
       "</table>"
      ],
      "text/plain": [
       "<Client: 'tls://192.168.58.238:8786' processes=0 threads=0, memory=0 B>"
      ]
     },
     "execution_count": 5,
     "metadata": {},
     "output_type": "execute_result"
    }
   ],
   "source": [
    "from distributed import Client\n",
    "client = Client(cluster)\n",
    "client"
   ]
  },
  {
   "cell_type": "markdown",
   "metadata": {},
   "source": [
    "ACCESS DATA FROM INTAKE CATALOG\n",
    "Variables needed: Omon/tos and Ofx/areacello"
   ]
  },
  {
   "cell_type": "markdown",
   "metadata": {},
   "source": [
    "esgf-world.json is the ESM collections spec file for the netCDF data in the S3 bucket esgf-world. \n",
    "The catalog is updated on an on-demand basis for now. \n",
    "You can refer to https://github.com/aradhakrishnanGFDL/gfdl-aws-analysis/tree/community/esm-collection-spec-examples for the most recent catalogs\n",
    "More examples can be found in https://github.com/aradhakrishnanGFDL/gfdl-aws-analysis/tree/community/examples \n"
   ]
  },
  {
   "cell_type": "code",
   "execution_count": 13,
   "metadata": {},
   "outputs": [],
   "source": [
    "#col_url = \"https://cmip6-nc.s3.us-east-2.amazonaws.com/esgf-world.json\" \n",
    "col_url = \"https://raw.githubusercontent.com/aradhakrishnanGFDL/gfdl-aws-analysis/master/esm-collection-spec-examples/esgf-world.json\""
   ]
  },
  {
   "cell_type": "code",
   "execution_count": 14,
   "metadata": {},
   "outputs": [],
   "source": [
    "col = intake.open_esm_datastore(col_url)\n",
    "esmcol_data = col.esmcol_data "
   ]
  },
  {
   "cell_type": "code",
   "execution_count": 15,
   "metadata": {},
   "outputs": [],
   "source": [
    "def latest_version(cat):\n",
    "    \"\"\"\n",
    "    input\n",
    "    cat: esmdatastore\n",
    "    output\n",
    "    esmdatastore with latest DRS versions\n",
    "    \"\"\"\n",
    "    latest_cat = cat.df.sort_values(by=['version','path']).drop_duplicates(['temporal_subset','source_id','table_id',\n",
    "                                               'institution_id','variable_id','member_id',\n",
    "                                               'grid_label','experiment_id'],keep='last')\n",
    "    return latest_cat"
   ]
  },
  {
   "cell_type": "code",
   "execution_count": 16,
   "metadata": {},
   "outputs": [],
   "source": [
    "query_Omon = dict(experiment_id=['abrupt-4xCO2','1pctCO2','historical'],\n",
    "                 table_id=['Omon'],\n",
    "                 member_id=[\"r1i1p1f1\",\"r1i1p1f2\"],\n",
    "                 source_id=['GFDL-ESM4'],\n",
    "                 grid_label=['gn'],\n",
    "                 variable_id=[\"tos\"])"
   ]
  },
  {
   "cell_type": "code",
   "execution_count": 17,
   "metadata": {},
   "outputs": [],
   "source": [
    "cat_Omon = col.search(**query_Omon)\n",
    "cat_Omon_lat = latest_version(cat_Omon)\n",
    "cat_Omon_lat = intake.open_esm_datastore(cat_Omon_lat,esmcol_data=esmcol_data)"
   ]
  },
  {
   "cell_type": "code",
   "execution_count": 18,
   "metadata": {},
   "outputs": [
    {
     "name": "stdout",
     "output_type": "stream",
     "text": [
      "\n",
      "--> The keys in the returned dictionary of datasets are constructed as follows:\n",
      "\t'project.institution_id.source_id.experiment_id.table_id'\n"
     ]
    },
    {
     "data": {
      "text/html": [
       "\n",
       "    <div>\n",
       "        <style>\n",
       "            /* Turns off some styling */\n",
       "            progress {\n",
       "                /* gets rid of default border in Firefox and Opera. */\n",
       "                border: none;\n",
       "                /* Needs to be in here for Safari polyfill so background images work as expected. */\n",
       "                background-size: auto;\n",
       "            }\n",
       "            .progress-bar-interrupted, .progress-bar-interrupted::-webkit-progress-bar {\n",
       "                background: #F44336;\n",
       "            }\n",
       "        </style>\n",
       "      <progress value='3' class='' max='3' style='width:300px; height:20px; vertical-align: middle;'></progress>\n",
       "      100.00% [3/3 00:01<00:00]\n",
       "    </div>\n",
       "    "
      ],
      "text/plain": [
       "<IPython.core.display.HTML object>"
      ]
     },
     "metadata": {},
     "output_type": "display_data"
    }
   ],
   "source": [
    "dset_dict_Omon = cat_Omon_lat.to_dataset_dict(storage_options=dict(anon=True),cdf_kwargs={'decode_times': True,'chunks': {'time': 1}})"
   ]
  },
  {
   "cell_type": "code",
   "execution_count": 19,
   "metadata": {},
   "outputs": [
    {
     "name": "stdout",
     "output_type": "stream",
     "text": [
      "\n",
      "--> The keys in the returned dictionary of datasets are constructed as follows:\n",
      "\t'project.institution_id.source_id.experiment_id.table_id'\n"
     ]
    },
    {
     "data": {
      "text/html": [
       "\n",
       "    <div>\n",
       "        <style>\n",
       "            /* Turns off some styling */\n",
       "            progress {\n",
       "                /* gets rid of default border in Firefox and Opera. */\n",
       "                border: none;\n",
       "                /* Needs to be in here for Safari polyfill so background images work as expected. */\n",
       "                background-size: auto;\n",
       "            }\n",
       "            .progress-bar-interrupted, .progress-bar-interrupted::-webkit-progress-bar {\n",
       "                background: #F44336;\n",
       "            }\n",
       "        </style>\n",
       "      <progress value='2' class='' max='2' style='width:300px; height:20px; vertical-align: middle;'></progress>\n",
       "      100.00% [2/2 00:00<00:00]\n",
       "    </div>\n",
       "    "
      ],
      "text/plain": [
       "<IPython.core.display.HTML object>"
      ]
     },
     "metadata": {},
     "output_type": "display_data"
    }
   ],
   "source": [
    "query_Ofx = dict(experiment_id=['abrupt-4xCO2','1pctCO2','historical'],\n",
    "                 table_id=['Ofx'],\n",
    "               #  member_id=[\"r1i1p1f1\",\"r1i1p1f2\"],\n",
    "                 source_id=['GFDL-ESM4'],\n",
    "                 grid_label=['gn'],\n",
    "                 variable_id=[\"areacello\"])\n",
    "\n",
    "cat_Ofx = col.search(**query_Ofx)\n",
    "cat_Ofx_lat = latest_version(cat_Ofx) \n",
    "cat_Ofx_lat = intake.open_esm_datastore(cat_Ofx_lat,esmcol_data=esmcol_data)\n",
    "dset_dict_Ofx = cat_Ofx_lat.to_dataset_dict(storage_options=dict(anon=True),cdf_kwargs={'decode_times': True,'chunks': {}})"
   ]
  },
  {
   "cell_type": "code",
   "execution_count": 45,
   "metadata": {},
   "outputs": [],
   "source": [
    "start=\"1980\"\n",
    "end=\"2011\""
   ]
  },
  {
   "cell_type": "code",
   "execution_count": 20,
   "metadata": {},
   "outputs": [],
   "source": [
    "ds = dset_dict_Omon[\"CMIP6.NOAA-GFDL.GFDL-ESM4.historical.Omon\"] #xarray dataset object to access Omon tos dataset"
   ]
  },
  {
   "cell_type": "code",
   "execution_count": 21,
   "metadata": {},
   "outputs": [],
   "source": [
    "ds2 = dset_dict_Ofx[\"CMIP6.NOAA-GFDL.GFDL-ESM4.historical.Ofx\"] #xarray dataset object to access Ofx areacello dataset used to calculate the weighted average"
   ]
  },
  {
   "cell_type": "code",
   "execution_count": 48,
   "metadata": {},
   "outputs": [],
   "source": [
    "tos = ds.tos.sel(time=slice(start, end))"
   ]
  },
  {
   "cell_type": "markdown",
   "metadata": {},
   "source": [
    "NINO3 INDEX CALCULATION \n",
    "\n",
    "REGION \n",
    "\n",
    "(5S-5N , 150W-90W) "
   ]
  },
  {
   "cell_type": "markdown",
   "metadata": {},
   "source": [
    "SELECT tos and areacello for the region of interest"
   ]
  },
  {
   "cell_type": "code",
   "execution_count": 49,
   "metadata": {},
   "outputs": [],
   "source": [
    "tos = tos.where((tos.y<5) & (tos.y>-5) & (tos.x>-150) & (tos.x<-90), drop=True)"
   ]
  },
  {
   "cell_type": "code",
   "execution_count": 50,
   "metadata": {},
   "outputs": [
    {
     "data": {
      "text/plain": [
       "<matplotlib.collections.QuadMesh at 0x7f51e3ae5ee0>"
      ]
     },
     "execution_count": 50,
     "metadata": {},
     "output_type": "execute_result"
    },
    {
     "data": {
      "image/png": "[encoded data removed]",
      "text/plain": [
       "<Figure size 432x288 with 2 Axes>"
      ]
     },
     "metadata": {
      "needs_background": "light"
     },
     "output_type": "display_data"
    }
   ],
   "source": [
    "tos.isel(time=0).plot()"
   ]
  },
  {
   "cell_type": "code",
   "execution_count": 51,
   "metadata": {},
   "outputs": [],
   "source": [
    "areacello_nino3 = ds2.areacello.where((ds2.areacello.y<5) & (ds2.areacello.y>-5) & (ds2.areacello.x>-150) & (ds2.areacello.x<-90), drop=True)"
   ]
  },
  {
   "cell_type": "markdown",
   "metadata": {},
   "source": [
    "CALCULATE SEA SURFACE TEMPERATURE WEIGHTED AVERAGE"
   ]
  },
  {
   "cell_type": "code",
   "execution_count": 52,
   "metadata": {},
   "outputs": [],
   "source": [
    "total_areacello = areacello_nino34.sum(dim=('x', 'y'))\n",
    "tos_mean_nino3 = (tos * areacello_nino34).sum(dim=('x', 'y')) / total_areacello\n",
    "#nino3_index.plot()"
   ]
  },
  {
   "cell_type": "code",
   "execution_count": null,
   "metadata": {},
   "outputs": [],
   "source": [
    "tos_mean_nino3.compute()"
   ]
  },
  {
   "cell_type": "code",
   "execution_count": 54,
   "metadata": {},
   "outputs": [
    {
     "data": {
      "text/plain": [
       "384"
      ]
     },
     "execution_count": 54,
     "metadata": {},
     "output_type": "execute_result"
    }
   ],
   "source": [
    "tos_mean_nino3.size # 32 * 12 = 384 "
   ]
  },
  {
   "cell_type": "code",
   "execution_count": null,
   "metadata": {},
   "outputs": [],
   "source": [
    "datetimeindex = tos_mean_nino3.indexes['time'].to_datetimeindex()\n",
    "tos_mean_nino3['time'] = datetimeindex "
   ]
  },
  {
   "cell_type": "code",
   "execution_count": 56,
   "metadata": {},
   "outputs": [
    {
     "name": "stdout",
     "output_type": "stream",
     "text": [
      "CPU times: user 18.2 s, sys: 7.31 s, total: 25.5 s\n",
      "Wall time: 1min 44s\n"
     ]
    },
    {
     "data": {
      "image/png": "[encoded data removed]",
      "text/plain": [
       "<Figure size 432x216 with 1 Axes>"
      ]
     },
     "metadata": {
      "needs_background": "light"
     },
     "output_type": "display_data"
    }
   ],
   "source": [
    "%%time \n",
    "\n",
    "tos_mean_nino3.plot(aspect=2, size=3)\n",
    "plt.title(\"NINO3 SST for ESM4 historical\")\n",
    "plt.tight_layout()\n",
    "plt.draw()"
   ]
  },
  {
   "cell_type": "code",
   "execution_count": null,
   "metadata": {},
   "outputs": [],
   "source": []
  },
  {
   "cell_type": "code",
   "execution_count": null,
   "metadata": {},
   "outputs": [],
   "source": []
  },
  {
   "cell_type": "markdown",
   "metadata": {},
   "source": [
    "ADDITIONAL exploration"
   ]
  },
  {
   "cell_type": "markdown",
   "metadata": {},
   "source": [
    "CLIMATOLOGY (average all Jans, Febs, etc) CALC EXAMPLES (YEARS NEED A TWEAK, calculate for 20 year chunks or as needed)"
   ]
  },
  {
   "cell_type": "code",
   "execution_count": 57,
   "metadata": {},
   "outputs": [],
   "source": [
    "tos_nino3_climatology = tos.sel(time=slice(start,end)).groupby('time.month').mean(dim='time')"
   ]
  },
  {
   "cell_type": "code",
   "execution_count": null,
   "metadata": {},
   "outputs": [],
   "source": [
    "tos_nino3_climatology.compute()"
   ]
  },
  {
   "cell_type": "code",
   "execution_count": null,
   "metadata": {},
   "outputs": [],
   "source": [
    "tos_nino3_climatology.isel(month=0).plot()"
   ]
  },
  {
   "cell_type": "markdown",
   "metadata": {},
   "source": [
    "monthly anomaly of SST (or TOS here) over the Nino3 region\n",
    "\n",
    "we subtract the monthly climatology values calculated above from the TOS value values and then do\n",
    "a spatial average across the region of interest"
   ]
  },
  {
   "cell_type": "code",
   "execution_count": 60,
   "metadata": {},
   "outputs": [],
   "source": [
    "index_nino3 = (tos.groupby('time.month')-tos_nino3_climatology).mean(dim=['x','y'])"
   ]
  },
  {
   "cell_type": "code",
   "execution_count": null,
   "metadata": {},
   "outputs": [],
   "source": [
    "index_nino3.compute()"
   ]
  },
  {
   "cell_type": "code",
   "execution_count": 62,
   "metadata": {},
   "outputs": [
    {
     "name": "stderr",
     "output_type": "stream",
     "text": [
      "<timed exec>:1: RuntimeWarning: Converting a CFTimeIndex with dates from a non-standard calendar, 'noleap', to a pandas.DatetimeIndex, which uses dates from the standard calendar.  This may lead to subtle errors in operations that depend on the length of time between dates.\n"
     ]
    },
    {
     "name": "stdout",
     "output_type": "stream",
     "text": [
      "CPU times: user 26.1 s, sys: 8.03 s, total: 34.1 s\n",
      "Wall time: 2min 19s\n"
     ]
    },
    {
     "data": {
      "text/plain": [
       "[<matplotlib.lines.Line2D at 0x7f51e38a6fa0>]"
      ]
     },
     "execution_count": 62,
     "metadata": {},
     "output_type": "execute_result"
    },
    {
     "data": {
      "image/png": "[encoded data removed]",
      "text/plain": [
       "<Figure size 432x288 with 1 Axes>"
      ]
     },
     "metadata": {
      "needs_background": "light"
     },
     "output_type": "display_data"
    }
   ],
   "source": [
    "%%time \n",
    "\n",
    "datetimeindex = index_nino3.indexes['time'].to_datetimeindex()\n",
    "index_nino3['time'] = datetimeindex\n",
    "index_nino3.plot()"
   ]
  },
  {
   "cell_type": "code",
   "execution_count": null,
   "metadata": {},
   "outputs": [],
   "source": []
  }
 ],
 "metadata": {
  "kernelspec": {
   "display_name": "Python 3",
   "language": "python",
   "name": "python3"
  },
  "language_info": {
   "codemirror_mode": {
    "name": "ipython",
    "version": 3
   },
   "file_extension": ".py",
   "mimetype": "text/x-python",
   "name": "python",
   "nbconvert_exporter": "python",
   "pygments_lexer": "ipython3",
   "version": "3.8.10"
  },
  "toc-autonumbering": true,
  "toc-showtags": true
 },
 "nbformat": 4,
 "nbformat_minor": 4
}
