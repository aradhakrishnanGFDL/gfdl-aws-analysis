{
 "cells": [
  {
   "cell_type": "markdown",
   "metadata": {},
   "source": [
    "Authors: A.Radhakrishnan, GFDL\n",
    "Ack: Anderson Banihirwe for intake-esm updates, GFDL colleagues for data"
   ]
  },
  {
   "cell_type": "code",
   "execution_count": 2,
   "metadata": {},
   "outputs": [],
   "source": [
    "from netCDF4 import Dataset\n",
    "import numpy as np\n",
    "import matplotlib\n",
    "from matplotlib import pyplot as plt\n",
    "import xarray as xr\n",
    "import intake,yaml\n",
    "import intake_esm\n",
    "import numpy as np\n",
    "%matplotlib inline"
   ]
  },
  {
   "cell_type": "markdown",
   "metadata": {},
   "source": [
    "esgf-world.json is the ESM collections spec file for the netCDF data in the S3 bucket esgf-world. \n",
    "The catalog is updated on an on-demand basis for now. \n",
    "You can refer to https://github.com/aradhakrishnanGFDL/gfdl-aws-analysis/tree/community/esm-collection-spec-examples for the most recent catalogs\n",
    "More examples can be found in https://github.com/aradhakrishnanGFDL/gfdl-aws-analysis/tree/community/examples \n"
   ]
  },
  {
   "cell_type": "code",
   "execution_count": 30,
   "metadata": {},
   "outputs": [],
   "source": [
    "col_url = \"https://cmip6-nc.s3.us-east-2.amazonaws.com/esgf-world.json\" \n",
    "#col_url = \"https://raw.githubusercontent.com/aradhakrishnanGFDL/gfdl-aws-analysis/community/esm-collection-spec-examples/esgf-world.json\""
   ]
  },
  {
   "cell_type": "code",
   "execution_count": 31,
   "metadata": {},
   "outputs": [],
   "source": [
    "col = intake.open_esm_datastore(col_url)"
   ]
  },
  {
   "cell_type": "code",
   "execution_count": 32,
   "metadata": {},
   "outputs": [
    {
     "data": {
      "text/html": [
       "<div>\n",
       "<style scoped>\n",
       "    .dataframe tbody tr th:only-of-type {\n",
       "        vertical-align: middle;\n",
       "    }\n",
       "\n",
       "    .dataframe tbody tr th {\n",
       "        vertical-align: top;\n",
       "    }\n",
       "\n",
       "    .dataframe thead th {\n",
       "        text-align: right;\n",
       "    }\n",
       "</style>\n",
       "<table border=\"1\" class=\"dataframe\">\n",
       "  <thead>\n",
       "    <tr style=\"text-align: right;\">\n",
       "      <th></th>\n",
       "      <th>project</th>\n",
       "      <th>institute</th>\n",
       "      <th>model</th>\n",
       "      <th>experiment_id</th>\n",
       "      <th>frequency</th>\n",
       "      <th>modeling_realm</th>\n",
       "      <th>mip_table</th>\n",
       "      <th>ensemble_member</th>\n",
       "      <th>grid_label</th>\n",
       "      <th>variable</th>\n",
       "      <th>temporal subset</th>\n",
       "      <th>version</th>\n",
       "      <th>path</th>\n",
       "    </tr>\n",
       "  </thead>\n",
       "  <tbody>\n",
       "    <tr>\n",
       "      <th>0</th>\n",
       "      <td>CMIP6</td>\n",
       "      <td>AS-RCEC</td>\n",
       "      <td>TaiESM1</td>\n",
       "      <td>histSST-piNTCF</td>\n",
       "      <td>NaN</td>\n",
       "      <td>NaN</td>\n",
       "      <td>AERmon</td>\n",
       "      <td>r1i1p1f1</td>\n",
       "      <td>gn</td>\n",
       "      <td>ps</td>\n",
       "      <td>185001-201412</td>\n",
       "      <td>v20200318</td>\n",
       "      <td>s3://esgf-world/CMIP6/AerChemMIP/AS-RCEC/TaiES...</td>\n",
       "    </tr>\n",
       "    <tr>\n",
       "      <th>1</th>\n",
       "      <td>CMIP6</td>\n",
       "      <td>AS-RCEC</td>\n",
       "      <td>TaiESM1</td>\n",
       "      <td>histSST-piNTCF</td>\n",
       "      <td>NaN</td>\n",
       "      <td>NaN</td>\n",
       "      <td>CFmon</td>\n",
       "      <td>r1i1p1f1</td>\n",
       "      <td>gn</td>\n",
       "      <td>ta</td>\n",
       "      <td>185001-201412</td>\n",
       "      <td>v20200318</td>\n",
       "      <td>s3://esgf-world/CMIP6/AerChemMIP/AS-RCEC/TaiES...</td>\n",
       "    </tr>\n",
       "    <tr>\n",
       "      <th>2</th>\n",
       "      <td>CMIP6</td>\n",
       "      <td>AS-RCEC</td>\n",
       "      <td>TaiESM1</td>\n",
       "      <td>histSST-piNTCF</td>\n",
       "      <td>NaN</td>\n",
       "      <td>NaN</td>\n",
       "      <td>Lmon</td>\n",
       "      <td>r1i1p1f1</td>\n",
       "      <td>gn</td>\n",
       "      <td>rh</td>\n",
       "      <td>185002-201412</td>\n",
       "      <td>v20200318</td>\n",
       "      <td>s3://esgf-world/CMIP6/AerChemMIP/AS-RCEC/TaiES...</td>\n",
       "    </tr>\n",
       "    <tr>\n",
       "      <th>3</th>\n",
       "      <td>CMIP6</td>\n",
       "      <td>AS-RCEC</td>\n",
       "      <td>TaiESM1</td>\n",
       "      <td>histSST</td>\n",
       "      <td>NaN</td>\n",
       "      <td>NaN</td>\n",
       "      <td>AERmon</td>\n",
       "      <td>r1i1p1f1</td>\n",
       "      <td>gn</td>\n",
       "      <td>ps</td>\n",
       "      <td>185001-201412</td>\n",
       "      <td>v20200310</td>\n",
       "      <td>s3://esgf-world/CMIP6/AerChemMIP/AS-RCEC/TaiES...</td>\n",
       "    </tr>\n",
       "    <tr>\n",
       "      <th>4</th>\n",
       "      <td>CMIP6</td>\n",
       "      <td>AS-RCEC</td>\n",
       "      <td>TaiESM1</td>\n",
       "      <td>histSST</td>\n",
       "      <td>NaN</td>\n",
       "      <td>NaN</td>\n",
       "      <td>CFmon</td>\n",
       "      <td>r1i1p1f1</td>\n",
       "      <td>gn</td>\n",
       "      <td>ta</td>\n",
       "      <td>185001-201412</td>\n",
       "      <td>v20200316</td>\n",
       "      <td>s3://esgf-world/CMIP6/AerChemMIP/AS-RCEC/TaiES...</td>\n",
       "    </tr>\n",
       "    <tr>\n",
       "      <th>...</th>\n",
       "      <td>...</td>\n",
       "      <td>...</td>\n",
       "      <td>...</td>\n",
       "      <td>...</td>\n",
       "      <td>...</td>\n",
       "      <td>...</td>\n",
       "      <td>...</td>\n",
       "      <td>...</td>\n",
       "      <td>...</td>\n",
       "      <td>...</td>\n",
       "      <td>...</td>\n",
       "      <td>...</td>\n",
       "      <td>...</td>\n",
       "    </tr>\n",
       "    <tr>\n",
       "      <th>424087</th>\n",
       "      <td>CMIP6</td>\n",
       "      <td>THU</td>\n",
       "      <td>CIESM</td>\n",
       "      <td>ssp585</td>\n",
       "      <td>mon</td>\n",
       "      <td>atmos</td>\n",
       "      <td>Amon</td>\n",
       "      <td>r1i1p1f1</td>\n",
       "      <td>gr</td>\n",
       "      <td>rlds</td>\n",
       "      <td>201501-210012</td>\n",
       "      <td>v20200417</td>\n",
       "      <td>s3://esgf-world/CMIP6/ScenarioMIP/THU/CIESM/ss...</td>\n",
       "    </tr>\n",
       "    <tr>\n",
       "      <th>424088</th>\n",
       "      <td>CMIP6</td>\n",
       "      <td>THU</td>\n",
       "      <td>CIESM</td>\n",
       "      <td>ssp585</td>\n",
       "      <td>mon</td>\n",
       "      <td>atmos</td>\n",
       "      <td>Amon</td>\n",
       "      <td>r1i1p1f1</td>\n",
       "      <td>gr</td>\n",
       "      <td>rsds</td>\n",
       "      <td>201501-210012</td>\n",
       "      <td>v20200417</td>\n",
       "      <td>s3://esgf-world/CMIP6/ScenarioMIP/THU/CIESM/ss...</td>\n",
       "    </tr>\n",
       "    <tr>\n",
       "      <th>424089</th>\n",
       "      <td>CMIP6</td>\n",
       "      <td>THU</td>\n",
       "      <td>CIESM</td>\n",
       "      <td>ssp585</td>\n",
       "      <td>mon</td>\n",
       "      <td>atmos</td>\n",
       "      <td>Amon</td>\n",
       "      <td>r1i1p1f1</td>\n",
       "      <td>gr</td>\n",
       "      <td>ta</td>\n",
       "      <td>201501-210012</td>\n",
       "      <td>v20200417</td>\n",
       "      <td>s3://esgf-world/CMIP6/ScenarioMIP/THU/CIESM/ss...</td>\n",
       "    </tr>\n",
       "    <tr>\n",
       "      <th>424090</th>\n",
       "      <td>CMIP6</td>\n",
       "      <td>THU</td>\n",
       "      <td>CIESM</td>\n",
       "      <td>ssp585</td>\n",
       "      <td>mon</td>\n",
       "      <td>ocean</td>\n",
       "      <td>Omon</td>\n",
       "      <td>r1i1p1f1</td>\n",
       "      <td>gn</td>\n",
       "      <td>thetao</td>\n",
       "      <td>201501-206412</td>\n",
       "      <td>v20200220</td>\n",
       "      <td>s3://esgf-world/CMIP6/ScenarioMIP/THU/CIESM/ss...</td>\n",
       "    </tr>\n",
       "    <tr>\n",
       "      <th>424091</th>\n",
       "      <td>CMIP6</td>\n",
       "      <td>THU</td>\n",
       "      <td>CIESM</td>\n",
       "      <td>ssp585</td>\n",
       "      <td>mon</td>\n",
       "      <td>ocean</td>\n",
       "      <td>Omon</td>\n",
       "      <td>r1i1p1f1</td>\n",
       "      <td>gn</td>\n",
       "      <td>thetao</td>\n",
       "      <td>206501-210012</td>\n",
       "      <td>v20200220</td>\n",
       "      <td>s3://esgf-world/CMIP6/ScenarioMIP/THU/CIESM/ss...</td>\n",
       "    </tr>\n",
       "  </tbody>\n",
       "</table>\n",
       "<p>424092 rows × 13 columns</p>\n",
       "</div>"
      ],
      "text/plain": [
       "       project institute    model   experiment_id frequency modeling_realm  \\\n",
       "0        CMIP6   AS-RCEC  TaiESM1  histSST-piNTCF       NaN            NaN   \n",
       "1        CMIP6   AS-RCEC  TaiESM1  histSST-piNTCF       NaN            NaN   \n",
       "2        CMIP6   AS-RCEC  TaiESM1  histSST-piNTCF       NaN            NaN   \n",
       "3        CMIP6   AS-RCEC  TaiESM1         histSST       NaN            NaN   \n",
       "4        CMIP6   AS-RCEC  TaiESM1         histSST       NaN            NaN   \n",
       "...        ...       ...      ...             ...       ...            ...   \n",
       "424087   CMIP6       THU    CIESM          ssp585       mon          atmos   \n",
       "424088   CMIP6       THU    CIESM          ssp585       mon          atmos   \n",
       "424089   CMIP6       THU    CIESM          ssp585       mon          atmos   \n",
       "424090   CMIP6       THU    CIESM          ssp585       mon          ocean   \n",
       "424091   CMIP6       THU    CIESM          ssp585       mon          ocean   \n",
       "\n",
       "       mip_table ensemble_member grid_label variable temporal subset  \\\n",
       "0         AERmon        r1i1p1f1         gn       ps   185001-201412   \n",
       "1          CFmon        r1i1p1f1         gn       ta   185001-201412   \n",
       "2           Lmon        r1i1p1f1         gn       rh   185002-201412   \n",
       "3         AERmon        r1i1p1f1         gn       ps   185001-201412   \n",
       "4          CFmon        r1i1p1f1         gn       ta   185001-201412   \n",
       "...          ...             ...        ...      ...             ...   \n",
       "424087      Amon        r1i1p1f1         gr     rlds   201501-210012   \n",
       "424088      Amon        r1i1p1f1         gr     rsds   201501-210012   \n",
       "424089      Amon        r1i1p1f1         gr       ta   201501-210012   \n",
       "424090      Omon        r1i1p1f1         gn   thetao   201501-206412   \n",
       "424091      Omon        r1i1p1f1         gn   thetao   206501-210012   \n",
       "\n",
       "          version                                               path  \n",
       "0       v20200318  s3://esgf-world/CMIP6/AerChemMIP/AS-RCEC/TaiES...  \n",
       "1       v20200318  s3://esgf-world/CMIP6/AerChemMIP/AS-RCEC/TaiES...  \n",
       "2       v20200318  s3://esgf-world/CMIP6/AerChemMIP/AS-RCEC/TaiES...  \n",
       "3       v20200310  s3://esgf-world/CMIP6/AerChemMIP/AS-RCEC/TaiES...  \n",
       "4       v20200316  s3://esgf-world/CMIP6/AerChemMIP/AS-RCEC/TaiES...  \n",
       "...           ...                                                ...  \n",
       "424087  v20200417  s3://esgf-world/CMIP6/ScenarioMIP/THU/CIESM/ss...  \n",
       "424088  v20200417  s3://esgf-world/CMIP6/ScenarioMIP/THU/CIESM/ss...  \n",
       "424089  v20200417  s3://esgf-world/CMIP6/ScenarioMIP/THU/CIESM/ss...  \n",
       "424090  v20200220  s3://esgf-world/CMIP6/ScenarioMIP/THU/CIESM/ss...  \n",
       "424091  v20200220  s3://esgf-world/CMIP6/ScenarioMIP/THU/CIESM/ss...  \n",
       "\n",
       "[424092 rows x 13 columns]"
      ]
     },
     "execution_count": 32,
     "metadata": {},
     "output_type": "execute_result"
    }
   ],
   "source": [
    "col.df"
   ]
  },
  {
   "cell_type": "code",
   "execution_count": 33,
   "metadata": {},
   "outputs": [],
   "source": [
    "#Examples to just search for what we want from the catalog\n",
    "expname_filter = ['historical']\n",
    "table_id_filter = 'Amon'\n",
    "model_filter = 'GFDL-ESM4'\n",
    "variable_id_filter = \"tas\"\n",
    "ens_filter = \"r1i1p1f1\"\n",
    "version_filter = \"v20190726\"\n",
    "cat = col.search(experiment_id=expname_filter, mip_table=table_id_filter,model=model_filter,variable=variable_id_filter,version=\"v20190726\")"
   ]
  },
  {
   "cell_type": "code",
   "execution_count": 34,
   "metadata": {},
   "outputs": [
    {
     "data": {
      "text/html": [
       "<p><strong>gfdltest catalog with 1 dataset(s) from 2 asset(s)</strong>:</p> <div>\n",
       "<style scoped>\n",
       "    .dataframe tbody tr th:only-of-type {\n",
       "        vertical-align: middle;\n",
       "    }\n",
       "\n",
       "    .dataframe tbody tr th {\n",
       "        vertical-align: top;\n",
       "    }\n",
       "\n",
       "    .dataframe thead th {\n",
       "        text-align: right;\n",
       "    }\n",
       "</style>\n",
       "<table border=\"1\" class=\"dataframe\">\n",
       "  <thead>\n",
       "    <tr style=\"text-align: right;\">\n",
       "      <th></th>\n",
       "      <th>unique</th>\n",
       "    </tr>\n",
       "  </thead>\n",
       "  <tbody>\n",
       "    <tr>\n",
       "      <th>project</th>\n",
       "      <td>1</td>\n",
       "    </tr>\n",
       "    <tr>\n",
       "      <th>institute</th>\n",
       "      <td>1</td>\n",
       "    </tr>\n",
       "    <tr>\n",
       "      <th>model</th>\n",
       "      <td>1</td>\n",
       "    </tr>\n",
       "    <tr>\n",
       "      <th>experiment_id</th>\n",
       "      <td>1</td>\n",
       "    </tr>\n",
       "    <tr>\n",
       "      <th>frequency</th>\n",
       "      <td>1</td>\n",
       "    </tr>\n",
       "    <tr>\n",
       "      <th>modeling_realm</th>\n",
       "      <td>1</td>\n",
       "    </tr>\n",
       "    <tr>\n",
       "      <th>mip_table</th>\n",
       "      <td>1</td>\n",
       "    </tr>\n",
       "    <tr>\n",
       "      <th>ensemble_member</th>\n",
       "      <td>1</td>\n",
       "    </tr>\n",
       "    <tr>\n",
       "      <th>grid_label</th>\n",
       "      <td>1</td>\n",
       "    </tr>\n",
       "    <tr>\n",
       "      <th>variable</th>\n",
       "      <td>1</td>\n",
       "    </tr>\n",
       "    <tr>\n",
       "      <th>temporal subset</th>\n",
       "      <td>2</td>\n",
       "    </tr>\n",
       "    <tr>\n",
       "      <th>version</th>\n",
       "      <td>1</td>\n",
       "    </tr>\n",
       "    <tr>\n",
       "      <th>path</th>\n",
       "      <td>2</td>\n",
       "    </tr>\n",
       "  </tbody>\n",
       "</table>\n",
       "</div>"
      ],
      "text/plain": [
       "<IPython.core.display.HTML object>"
      ]
     },
     "metadata": {},
     "output_type": "display_data"
    }
   ],
   "source": [
    "cat"
   ]
  },
  {
   "cell_type": "code",
   "execution_count": 35,
   "metadata": {},
   "outputs": [
    {
     "name": "stdout",
     "output_type": "stream",
     "text": [
      "\n",
      "--> The keys in the returned dictionary of datasets are constructed as follows:\n",
      "\t'project.institute.model.experiment_id.mip_table'\n"
     ]
    },
    {
     "data": {
      "text/html": [
       "\n",
       "    <div>\n",
       "        <style>\n",
       "            /* Turns off some styling */\n",
       "            progress {\n",
       "                /* gets rid of default border in Firefox and Opera. */\n",
       "                border: none;\n",
       "                /* Needs to be in here for Safari polyfill so background images work as expected. */\n",
       "                background-size: auto;\n",
       "            }\n",
       "            .progress-bar-interrupted, .progress-bar-interrupted::-webkit-progress-bar {\n",
       "                background: #F44336;\n",
       "            }\n",
       "        </style>\n",
       "      <progress value='1' class='' max='1' style='width:300px; height:20px; vertical-align: middle;'></progress>\n",
       "      100.00% [1/1 00:00<00:00]\n",
       "    </div>\n",
       "    "
      ],
      "text/plain": [
       "<IPython.core.display.HTML object>"
      ]
     },
     "metadata": {},
     "output_type": "display_data"
    }
   ],
   "source": [
    "dset_dict = cat.to_dataset_dict(cdf_kwargs={'chunks': {'time': 1}},storage_options={'anon':True})\n",
    "\n"
   ]
  },
  {
   "cell_type": "code",
   "execution_count": 36,
   "metadata": {},
   "outputs": [
    {
     "data": {
      "text/plain": [
       "{'CMIP6.NOAA-GFDL.GFDL-ESM4.historical.Amon': <xarray.Dataset>\n",
       " Dimensions:          (bnds: 2, ensemble_member: 1, lat: 180, lon: 288, time: 1980)\n",
       " Coordinates:\n",
       "     height           float64 ...\n",
       "   * time             (time) object 1850-01-16 12:00:00 ... 2014-12-16 12:00:00\n",
       "   * lat              (lat) float64 -89.5 -88.5 -87.5 -86.5 ... 87.5 88.5 89.5\n",
       "   * bnds             (bnds) float64 1.0 2.0\n",
       "   * lon              (lon) float64 0.625 1.875 3.125 4.375 ... 356.9 358.1 359.4\n",
       "   * ensemble_member  (ensemble_member) <U8 'r1i1p1f1'\n",
       " Data variables:\n",
       "     time_bnds        (time, bnds) object dask.array<chunksize=(1, 2), meta=np.ndarray>\n",
       "     lat_bnds         (lat, bnds) float64 dask.array<chunksize=(180, 2), meta=np.ndarray>\n",
       "     lon_bnds         (lon, bnds) float64 dask.array<chunksize=(288, 2), meta=np.ndarray>\n",
       "     tas              (ensemble_member, time, lat, lon) float32 dask.array<chunksize=(1, 1, 180, 288), meta=np.ndarray>\n",
       " Attributes:\n",
       "     experiment:              all-forcing simulation of the recent past\n",
       "     contact:                 gfdl.climate.model.info@noaa.gov\n",
       "     forcing_index:           [1]\n",
       "     further_info_url:        https://furtherinfo.es-doc.org/CMIP6.NOAA-GFDL.G...\n",
       "     parent_mip_era:          CMIP6\n",
       "     variant_label:           r1i1p1f1\n",
       "     product:                 model-output\n",
       "     mip_era:                 CMIP6\n",
       "     history:                 File was processed by fremetar (GFDL analog of C...\n",
       "     realm:                   atmos\n",
       "     activity_id:             CMIP\n",
       "     institution_id:          NOAA-GFDL\n",
       "     tracking_id:             hdl:21.14100/75e5c5a7-d7c4-4860-beb1-db454f25f13...\n",
       "     sub_experiment:          none\n",
       "     parent_activity_id:      CMIP\n",
       "     branch_method:           standard\n",
       "     parent_source_id:        GFDL-ESM4\n",
       "     experiment_id:           historical\n",
       "     data_specs_version:      01.00.27\n",
       "     nominal_resolution:      100 km\n",
       "     intake_esm_varname:      ['tas']\n",
       "     branch_time_in_child:    [0.]\n",
       "     source_id:               GFDL-ESM4\n",
       "     table_id:                Amon\n",
       "     source_type:             AOGCM AER CHEM BGC\n",
       "     initialization_index:    [1]\n",
       "     grid_label:              gr1\n",
       "     variable_id:             tas\n",
       "     physics_index:           [1]\n",
       "     title:                   NOAA GFDL GFDL-ESM4 model output prepared for CM...\n",
       "     sub_experiment_id:       none\n",
       "     grid:                    atmos data regridded from Cubed-sphere (c96) to ...\n",
       "     realization_index:       [1]\n",
       "     license:                 CMIP6 model data produced by NOAA-GFDL is licens...\n",
       "     external_variables:      areacella\n",
       "     variant_info:            N/A\n",
       "     parent_variant_label:    r1i1p1f1\n",
       "     branch_time_in_parent:   [36500.]\n",
       "     frequency:               mon\n",
       "     parent_experiment_id:    piControl\n",
       "     parent_time_units:       days since 0001-1-1\n",
       "     references:              see further_info_url attribute\n",
       "     source:                  GFDL-ESM4 (2018):\\natmos: GFDL-AM4.1 (Cubed-sphe...\n",
       "     Conventions:             CF-1.7 CMIP-6.0 UGRID-1.0\n",
       "     institution:             National Oceanic and Atmospheric Administration,...\n",
       "     comment:                 <null ref>\n",
       "     intake_esm_dataset_key:  CMIP6.NOAA-GFDL.GFDL-ESM4.historical.Amon}"
      ]
     },
     "execution_count": 36,
     "metadata": {},
     "output_type": "execute_result"
    }
   ],
   "source": [
    "dset_dict"
   ]
  },
  {
   "cell_type": "code",
   "execution_count": 37,
   "metadata": {},
   "outputs": [],
   "source": [
    "hxr_gfdl_esm4 = dset_dict[\"CMIP6.NOAA-GFDL.GFDL-ESM4.historical.Amon\"]"
   ]
  },
  {
   "cell_type": "code",
   "execution_count": 38,
   "metadata": {},
   "outputs": [
    {
     "data": {
      "text/html": [
       "<div>\n",
       "<style scoped>\n",
       "    .dataframe tbody tr th:only-of-type {\n",
       "        vertical-align: middle;\n",
       "    }\n",
       "\n",
       "    .dataframe tbody tr th {\n",
       "        vertical-align: top;\n",
       "    }\n",
       "\n",
       "    .dataframe thead th {\n",
       "        text-align: right;\n",
       "    }\n",
       "</style>\n",
       "<table border=\"1\" class=\"dataframe\">\n",
       "  <thead>\n",
       "    <tr style=\"text-align: right;\">\n",
       "      <th></th>\n",
       "      <th>project</th>\n",
       "      <th>institute</th>\n",
       "      <th>model</th>\n",
       "      <th>experiment_id</th>\n",
       "      <th>frequency</th>\n",
       "      <th>modeling_realm</th>\n",
       "      <th>mip_table</th>\n",
       "      <th>ensemble_member</th>\n",
       "      <th>grid_label</th>\n",
       "      <th>variable</th>\n",
       "      <th>temporal subset</th>\n",
       "      <th>version</th>\n",
       "      <th>path</th>\n",
       "    </tr>\n",
       "  </thead>\n",
       "  <tbody>\n",
       "    <tr>\n",
       "      <th>0</th>\n",
       "      <td>CMIP6</td>\n",
       "      <td>NOAA-GFDL</td>\n",
       "      <td>GFDL-ESM4</td>\n",
       "      <td>historical</td>\n",
       "      <td>mon</td>\n",
       "      <td>atmos</td>\n",
       "      <td>Amon</td>\n",
       "      <td>r1i1p1f1</td>\n",
       "      <td>gr1</td>\n",
       "      <td>tas</td>\n",
       "      <td>185001-194912</td>\n",
       "      <td>v20190726</td>\n",
       "      <td>s3://esgf-world/CMIP6/CMIP/NOAA-GFDL/GFDL-ESM4...</td>\n",
       "    </tr>\n",
       "    <tr>\n",
       "      <th>1</th>\n",
       "      <td>CMIP6</td>\n",
       "      <td>NOAA-GFDL</td>\n",
       "      <td>GFDL-ESM4</td>\n",
       "      <td>historical</td>\n",
       "      <td>mon</td>\n",
       "      <td>atmos</td>\n",
       "      <td>Amon</td>\n",
       "      <td>r1i1p1f1</td>\n",
       "      <td>gr1</td>\n",
       "      <td>tas</td>\n",
       "      <td>195001-201412</td>\n",
       "      <td>v20190726</td>\n",
       "      <td>s3://esgf-world/CMIP6/CMIP/NOAA-GFDL/GFDL-ESM4...</td>\n",
       "    </tr>\n",
       "  </tbody>\n",
       "</table>\n",
       "</div>"
      ],
      "text/plain": [
       "  project  institute      model experiment_id frequency modeling_realm  \\\n",
       "0   CMIP6  NOAA-GFDL  GFDL-ESM4    historical       mon          atmos   \n",
       "1   CMIP6  NOAA-GFDL  GFDL-ESM4    historical       mon          atmos   \n",
       "\n",
       "  mip_table ensemble_member grid_label variable temporal subset    version  \\\n",
       "0      Amon        r1i1p1f1        gr1      tas   185001-194912  v20190726   \n",
       "1      Amon        r1i1p1f1        gr1      tas   195001-201412  v20190726   \n",
       "\n",
       "                                                path  \n",
       "0  s3://esgf-world/CMIP6/CMIP/NOAA-GFDL/GFDL-ESM4...  \n",
       "1  s3://esgf-world/CMIP6/CMIP/NOAA-GFDL/GFDL-ESM4...  "
      ]
     },
     "execution_count": 38,
     "metadata": {},
     "output_type": "execute_result"
    }
   ],
   "source": [
    "cat.df"
   ]
  },
  {
   "cell_type": "markdown",
   "metadata": {},
   "source": [
    "! GLOBAL MEAN \n",
    "let hgtas = tas[x=@ave,y=@ave,d=1,l=529:780@ave]\n"
   ]
  },
  {
   "cell_type": "code",
   "execution_count": 39,
   "metadata": {},
   "outputs": [],
   "source": [
    "lat1 = 60\n",
    "lat2 = 90"
   ]
  },
  {
   "cell_type": "code",
   "execution_count": 40,
   "metadata": {},
   "outputs": [],
   "source": [
    "tas = hxr_gfdl_esm4.tas\n",
    "weights = np.cos(np.deg2rad(tas.lat))\n",
    "weights.name = \"weights\""
   ]
  },
  {
   "cell_type": "markdown",
   "metadata": {},
   "source": [
    "!!!!!!!!!!!!!!!! COMPUTE BASELINE (1994-2014) TAS !!!!!!!!!!!!!!!!!!!!!!!!"
   ]
  },
  {
   "cell_type": "code",
   "execution_count": 41,
   "metadata": {},
   "outputs": [
    {
     "name": "stdout",
     "output_type": "stream",
     "text": [
      "[287.16173045]\n"
     ]
    }
   ],
   "source": [
    "hgtas = hxr_gfdl_esm4.tas.sel(time=slice(\"1994\", \"2014\"))\n",
    "hgtas = hgtas.weighted(weights)\n",
    "hgtas = hgtas.mean(dim=['lon','lat','time'])\n",
    "hgtas = hgtas.values\n",
    "print(hgtas) "
   ]
  },
  {
   "cell_type": "code",
   "execution_count": 15,
   "metadata": {},
   "outputs": [
    {
     "name": "stdout",
     "output_type": "stream",
     "text": [
      "[264.3833672]\n"
     ]
    }
   ],
   "source": [
    "hatas = hxr_gfdl_esm4.tas.sel(time=slice(\"1994\", \"2014\"),lat=slice(lat1, lat2))\n",
    "hatas = hatas.weighted(weights)\n",
    "hatas = hatas.mean(dim=['lon','lat','time'])\n",
    "hatas = hatas.values \n",
    "print(hatas)"
   ]
  },
  {
   "cell_type": "code",
   "execution_count": 24,
   "metadata": {},
   "outputs": [
    {
     "name": "stdout",
     "output_type": "stream",
     "text": [
      "Collecting nc-time-axis\n",
      "  Downloading nc_time_axis-1.2.0-py3-none-any.whl (12 kB)\n",
      "Requirement already satisfied: six in /home/jovyan/my-conda-envs/coolenv/lib/python3.8/site-packages (from nc-time-axis) (1.15.0)\n",
      "Requirement already satisfied: numpy in /home/jovyan/my-conda-envs/coolenv/lib/python3.8/site-packages (from nc-time-axis) (1.19.1)\n",
      "Requirement already satisfied: matplotlib in /home/jovyan/my-conda-envs/coolenv/lib/python3.8/site-packages (from nc-time-axis) (3.3.1)\n",
      "Requirement already satisfied: cftime in /home/jovyan/my-conda-envs/coolenv/lib/python3.8/site-packages (from nc-time-axis) (1.2.1)\n",
      "Requirement already satisfied: python-dateutil>=2.1 in /home/jovyan/my-conda-envs/coolenv/lib/python3.8/site-packages (from matplotlib->nc-time-axis) (2.8.1)\n",
      "Requirement already satisfied: kiwisolver>=1.0.1 in /home/jovyan/my-conda-envs/coolenv/lib/python3.8/site-packages (from matplotlib->nc-time-axis) (1.2.0)\n",
      "Requirement already satisfied: pillow>=6.2.0 in /home/jovyan/my-conda-envs/coolenv/lib/python3.8/site-packages (from matplotlib->nc-time-axis) (7.2.0)\n",
      "Requirement already satisfied: pyparsing!=2.0.4,!=2.1.2,!=2.1.6,>=2.0.3 in /home/jovyan/my-conda-envs/coolenv/lib/python3.8/site-packages (from matplotlib->nc-time-axis) (2.4.7)\n",
      "Requirement already satisfied: certifi>=2020.06.20 in /home/jovyan/my-conda-envs/coolenv/lib/python3.8/site-packages (from matplotlib->nc-time-axis) (2020.6.20)\n",
      "Requirement already satisfied: cycler>=0.10 in /home/jovyan/my-conda-envs/coolenv/lib/python3.8/site-packages (from matplotlib->nc-time-axis) (0.10.0)\n",
      "Installing collected packages: nc-time-axis\n",
      "Successfully installed nc-time-axis-1.2.0\n",
      "Note: you may need to restart the kernel to use updated packages.\n"
     ]
    }
   ],
   "source": [
    "%pip install nc-time-axis\n"
   ]
  },
  {
   "cell_type": "code",
   "execution_count": 30,
   "metadata": {},
   "outputs": [
    {
     "data": {
      "text/plain": [
       "(array([  54238.,  294657.,  313952.,  822221.,  868236., 1102418.,\n",
       "        2664606., 2776262., 4056464.,  110626.]),\n",
       " array([199.64807, 211.30887, 222.96968, 234.63048, 246.29129, 257.9521 ,\n",
       "        269.61288, 281.27368, 292.9345 , 304.5953 , 316.2561 ],\n",
       "       dtype=float32),\n",
       " <BarContainer object of 10 artists>)"
      ]
     },
     "execution_count": 30,
     "metadata": {},
     "output_type": "execute_result"
    },
    {
     "data": {
      "image/png": "[encoded data removed]",
      "text/plain": [
       "<Figure size 432x288 with 1 Axes>"
      ]
     },
     "metadata": {
      "needs_background": "light"
     },
     "output_type": "display_data"
    }
   ],
   "source": [
    "hgtas_hist = tas.sel(time=slice(\"1994\", \"2014\"))\n",
    "hgtas_hist.plot()"
   ]
  },
  {
   "cell_type": "code",
   "execution_count": 29,
   "metadata": {},
   "outputs": [
    {
     "data": {
      "image/png": "[encoded data removed]",
      "text/plain": [
       "<Figure size 432x288 with 2 Axes>"
      ]
     },
     "metadata": {
      "needs_background": "light"
     },
     "output_type": "display_data"
    }
   ],
   "source": [
    "hgtas2d = tas.isel(time=1).plot()\n"
   ]
  }
 ],
 "metadata": {
  "kernelspec": {
   "display_name": "coolenv",
   "language": "python",
   "name": "coolenv"
  },
  "language_info": {
   "codemirror_mode": {
    "name": "ipython",
    "version": 3
   },
   "file_extension": ".py",
   "mimetype": "text/x-python",
   "name": "python",
   "nbconvert_exporter": "python",
   "pygments_lexer": "ipython3",
   "version": "3.8.5"
  }
 },
 "nbformat": 4,
 "nbformat_minor": 4
}
