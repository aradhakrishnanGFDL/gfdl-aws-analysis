{
 "cells": [
  {
   "cell_type": "markdown",
   "metadata": {},
   "source": [
    "Authors: A.Radhakrishnan, GFDL\n",
    "Ack: Anderson Banihirwe for intake-esm updates, GFDL colleagues for data"
   ]
  },
  {
   "cell_type": "code",
   "execution_count": 1,
   "metadata": {},
   "outputs": [],
   "source": [
    "from netCDF4 import Dataset\n",
    "import numpy as np\n",
    "import matplotlib\n",
    "from matplotlib import pyplot as plt\n",
    "import xarray as xr\n",
    "import intake,yaml\n",
    "import intake_esm\n",
    "import numpy as np\n",
    "#anonymous True access to test data s3://gfdl-esgf/CMIP6/CMIP/NOAA-GFDL/GFDL-ESM4/historical/r1i1p1f1/Amon/tas/gr1/v20190726\n",
    "##importing packages needed"
   ]
  },
  {
   "cell_type": "code",
   "execution_count": 4,
   "metadata": {},
   "outputs": [],
   "source": [
    "col_url = \"esgf-world.json\" "
   ]
  },
  {
   "cell_type": "code",
   "execution_count": 5,
   "metadata": {},
   "outputs": [],
   "source": [
    "col = intake.open_esm_datastore(col_url)"
   ]
  },
  {
   "cell_type": "code",
   "execution_count": 6,
   "metadata": {},
   "outputs": [
    {
     "data": {
      "text/html": [
       "<div>\n",
       "<style scoped>\n",
       "    .dataframe tbody tr th:only-of-type {\n",
       "        vertical-align: middle;\n",
       "    }\n",
       "\n",
       "    .dataframe tbody tr th {\n",
       "        vertical-align: top;\n",
       "    }\n",
       "\n",
       "    .dataframe thead th {\n",
       "        text-align: right;\n",
       "    }\n",
       "</style>\n",
       "<table border=\"1\" class=\"dataframe\">\n",
       "  <thead>\n",
       "    <tr style=\"text-align: right;\">\n",
       "      <th></th>\n",
       "      <th>project</th>\n",
       "      <th>institute</th>\n",
       "      <th>model</th>\n",
       "      <th>experiment_id</th>\n",
       "      <th>frequency</th>\n",
       "      <th>modeling_realm</th>\n",
       "      <th>mip_table</th>\n",
       "      <th>ensemble_member</th>\n",
       "      <th>grid_label</th>\n",
       "      <th>variable</th>\n",
       "      <th>temporal subset</th>\n",
       "      <th>version</th>\n",
       "      <th>path</th>\n",
       "    </tr>\n",
       "  </thead>\n",
       "  <tbody>\n",
       "    <tr>\n",
       "      <th>0</th>\n",
       "      <td>CMIP6</td>\n",
       "      <td>AS-RCEC</td>\n",
       "      <td>TaiESM1</td>\n",
       "      <td>histSST-piNTCF</td>\n",
       "      <td>NaN</td>\n",
       "      <td>NaN</td>\n",
       "      <td>AERmon</td>\n",
       "      <td>r1i1p1f1</td>\n",
       "      <td>gn</td>\n",
       "      <td>ps</td>\n",
       "      <td>185001-201412</td>\n",
       "      <td>v20200318</td>\n",
       "      <td>s3://esgf-world/CMIP6/AerChemMIP/AS-RCEC/TaiES...</td>\n",
       "    </tr>\n",
       "    <tr>\n",
       "      <th>1</th>\n",
       "      <td>CMIP6</td>\n",
       "      <td>AS-RCEC</td>\n",
       "      <td>TaiESM1</td>\n",
       "      <td>histSST-piNTCF</td>\n",
       "      <td>NaN</td>\n",
       "      <td>NaN</td>\n",
       "      <td>CFmon</td>\n",
       "      <td>r1i1p1f1</td>\n",
       "      <td>gn</td>\n",
       "      <td>ta</td>\n",
       "      <td>185001-201412</td>\n",
       "      <td>v20200318</td>\n",
       "      <td>s3://esgf-world/CMIP6/AerChemMIP/AS-RCEC/TaiES...</td>\n",
       "    </tr>\n",
       "    <tr>\n",
       "      <th>2</th>\n",
       "      <td>CMIP6</td>\n",
       "      <td>AS-RCEC</td>\n",
       "      <td>TaiESM1</td>\n",
       "      <td>histSST-piNTCF</td>\n",
       "      <td>NaN</td>\n",
       "      <td>NaN</td>\n",
       "      <td>Lmon</td>\n",
       "      <td>r1i1p1f1</td>\n",
       "      <td>gn</td>\n",
       "      <td>rh</td>\n",
       "      <td>185002-201412</td>\n",
       "      <td>v20200318</td>\n",
       "      <td>s3://esgf-world/CMIP6/AerChemMIP/AS-RCEC/TaiES...</td>\n",
       "    </tr>\n",
       "    <tr>\n",
       "      <th>3</th>\n",
       "      <td>CMIP6</td>\n",
       "      <td>AS-RCEC</td>\n",
       "      <td>TaiESM1</td>\n",
       "      <td>histSST</td>\n",
       "      <td>NaN</td>\n",
       "      <td>NaN</td>\n",
       "      <td>AERmon</td>\n",
       "      <td>r1i1p1f1</td>\n",
       "      <td>gn</td>\n",
       "      <td>ps</td>\n",
       "      <td>185001-201412</td>\n",
       "      <td>v20200310</td>\n",
       "      <td>s3://esgf-world/CMIP6/AerChemMIP/AS-RCEC/TaiES...</td>\n",
       "    </tr>\n",
       "    <tr>\n",
       "      <th>4</th>\n",
       "      <td>CMIP6</td>\n",
       "      <td>AS-RCEC</td>\n",
       "      <td>TaiESM1</td>\n",
       "      <td>histSST</td>\n",
       "      <td>NaN</td>\n",
       "      <td>NaN</td>\n",
       "      <td>CFmon</td>\n",
       "      <td>r1i1p1f1</td>\n",
       "      <td>gn</td>\n",
       "      <td>ta</td>\n",
       "      <td>185001-201412</td>\n",
       "      <td>v20200316</td>\n",
       "      <td>s3://esgf-world/CMIP6/AerChemMIP/AS-RCEC/TaiES...</td>\n",
       "    </tr>\n",
       "    <tr>\n",
       "      <th>...</th>\n",
       "      <td>...</td>\n",
       "      <td>...</td>\n",
       "      <td>...</td>\n",
       "      <td>...</td>\n",
       "      <td>...</td>\n",
       "      <td>...</td>\n",
       "      <td>...</td>\n",
       "      <td>...</td>\n",
       "      <td>...</td>\n",
       "      <td>...</td>\n",
       "      <td>...</td>\n",
       "      <td>...</td>\n",
       "      <td>...</td>\n",
       "    </tr>\n",
       "    <tr>\n",
       "      <th>301623</th>\n",
       "      <td>CMIP6</td>\n",
       "      <td>THU</td>\n",
       "      <td>CIESM</td>\n",
       "      <td>ssp245</td>\n",
       "      <td>mon</td>\n",
       "      <td>ocean</td>\n",
       "      <td>Omon</td>\n",
       "      <td>r1i1p1f1</td>\n",
       "      <td>gn</td>\n",
       "      <td>thetao</td>\n",
       "      <td>206501-210012</td>\n",
       "      <td>v20200220</td>\n",
       "      <td>s3://esgf-world/CMIP6/ScenarioMIP/THU/CIESM/ss...</td>\n",
       "    </tr>\n",
       "    <tr>\n",
       "      <th>301624</th>\n",
       "      <td>CMIP6</td>\n",
       "      <td>THU</td>\n",
       "      <td>CIESM</td>\n",
       "      <td>ssp585</td>\n",
       "      <td>mon</td>\n",
       "      <td>atmos</td>\n",
       "      <td>Amon</td>\n",
       "      <td>r1i1p1f1</td>\n",
       "      <td>gr</td>\n",
       "      <td>pr</td>\n",
       "      <td>201501-210012</td>\n",
       "      <td>v20200417</td>\n",
       "      <td>s3://esgf-world/CMIP6/ScenarioMIP/THU/CIESM/ss...</td>\n",
       "    </tr>\n",
       "    <tr>\n",
       "      <th>301625</th>\n",
       "      <td>CMIP6</td>\n",
       "      <td>THU</td>\n",
       "      <td>CIESM</td>\n",
       "      <td>ssp585</td>\n",
       "      <td>mon</td>\n",
       "      <td>atmos</td>\n",
       "      <td>Amon</td>\n",
       "      <td>r1i1p1f1</td>\n",
       "      <td>gr</td>\n",
       "      <td>ta</td>\n",
       "      <td>201501-210012</td>\n",
       "      <td>v20200417</td>\n",
       "      <td>s3://esgf-world/CMIP6/ScenarioMIP/THU/CIESM/ss...</td>\n",
       "    </tr>\n",
       "    <tr>\n",
       "      <th>301626</th>\n",
       "      <td>CMIP6</td>\n",
       "      <td>THU</td>\n",
       "      <td>CIESM</td>\n",
       "      <td>ssp585</td>\n",
       "      <td>mon</td>\n",
       "      <td>ocean</td>\n",
       "      <td>Omon</td>\n",
       "      <td>r1i1p1f1</td>\n",
       "      <td>gn</td>\n",
       "      <td>thetao</td>\n",
       "      <td>201501-206412</td>\n",
       "      <td>v20200220</td>\n",
       "      <td>s3://esgf-world/CMIP6/ScenarioMIP/THU/CIESM/ss...</td>\n",
       "    </tr>\n",
       "    <tr>\n",
       "      <th>301627</th>\n",
       "      <td>CMIP6</td>\n",
       "      <td>THU</td>\n",
       "      <td>CIESM</td>\n",
       "      <td>ssp585</td>\n",
       "      <td>mon</td>\n",
       "      <td>ocean</td>\n",
       "      <td>Omon</td>\n",
       "      <td>r1i1p1f1</td>\n",
       "      <td>gn</td>\n",
       "      <td>thetao</td>\n",
       "      <td>206501-210012</td>\n",
       "      <td>v20200220</td>\n",
       "      <td>s3://esgf-world/CMIP6/ScenarioMIP/THU/CIESM/ss...</td>\n",
       "    </tr>\n",
       "  </tbody>\n",
       "</table>\n",
       "<p>301628 rows × 13 columns</p>\n",
       "</div>"
      ],
      "text/plain": [
       "       project institute    model   experiment_id frequency modeling_realm  \\\n",
       "0        CMIP6   AS-RCEC  TaiESM1  histSST-piNTCF       NaN            NaN   \n",
       "1        CMIP6   AS-RCEC  TaiESM1  histSST-piNTCF       NaN            NaN   \n",
       "2        CMIP6   AS-RCEC  TaiESM1  histSST-piNTCF       NaN            NaN   \n",
       "3        CMIP6   AS-RCEC  TaiESM1         histSST       NaN            NaN   \n",
       "4        CMIP6   AS-RCEC  TaiESM1         histSST       NaN            NaN   \n",
       "...        ...       ...      ...             ...       ...            ...   \n",
       "301623   CMIP6       THU    CIESM          ssp245       mon          ocean   \n",
       "301624   CMIP6       THU    CIESM          ssp585       mon          atmos   \n",
       "301625   CMIP6       THU    CIESM          ssp585       mon          atmos   \n",
       "301626   CMIP6       THU    CIESM          ssp585       mon          ocean   \n",
       "301627   CMIP6       THU    CIESM          ssp585       mon          ocean   \n",
       "\n",
       "       mip_table ensemble_member grid_label variable temporal subset  \\\n",
       "0         AERmon        r1i1p1f1         gn       ps   185001-201412   \n",
       "1          CFmon        r1i1p1f1         gn       ta   185001-201412   \n",
       "2           Lmon        r1i1p1f1         gn       rh   185002-201412   \n",
       "3         AERmon        r1i1p1f1         gn       ps   185001-201412   \n",
       "4          CFmon        r1i1p1f1         gn       ta   185001-201412   \n",
       "...          ...             ...        ...      ...             ...   \n",
       "301623      Omon        r1i1p1f1         gn   thetao   206501-210012   \n",
       "301624      Amon        r1i1p1f1         gr       pr   201501-210012   \n",
       "301625      Amon        r1i1p1f1         gr       ta   201501-210012   \n",
       "301626      Omon        r1i1p1f1         gn   thetao   201501-206412   \n",
       "301627      Omon        r1i1p1f1         gn   thetao   206501-210012   \n",
       "\n",
       "          version                                               path  \n",
       "0       v20200318  s3://esgf-world/CMIP6/AerChemMIP/AS-RCEC/TaiES...  \n",
       "1       v20200318  s3://esgf-world/CMIP6/AerChemMIP/AS-RCEC/TaiES...  \n",
       "2       v20200318  s3://esgf-world/CMIP6/AerChemMIP/AS-RCEC/TaiES...  \n",
       "3       v20200310  s3://esgf-world/CMIP6/AerChemMIP/AS-RCEC/TaiES...  \n",
       "4       v20200316  s3://esgf-world/CMIP6/AerChemMIP/AS-RCEC/TaiES...  \n",
       "...           ...                                                ...  \n",
       "301623  v20200220  s3://esgf-world/CMIP6/ScenarioMIP/THU/CIESM/ss...  \n",
       "301624  v20200417  s3://esgf-world/CMIP6/ScenarioMIP/THU/CIESM/ss...  \n",
       "301625  v20200417  s3://esgf-world/CMIP6/ScenarioMIP/THU/CIESM/ss...  \n",
       "301626  v20200220  s3://esgf-world/CMIP6/ScenarioMIP/THU/CIESM/ss...  \n",
       "301627  v20200220  s3://esgf-world/CMIP6/ScenarioMIP/THU/CIESM/ss...  \n",
       "\n",
       "[301628 rows x 13 columns]"
      ]
     },
     "execution_count": 6,
     "metadata": {},
     "output_type": "execute_result"
    }
   ],
   "source": [
    "col.df"
   ]
  },
  {
   "cell_type": "code",
   "execution_count": null,
   "metadata": {},
   "outputs": [
    {
     "name": "stdout",
     "output_type": "stream",
     "text": [
      "\n",
      "--> The keys in the returned dictionary of datasets are constructed as follows:\n",
      "\t'project.institute.model.experiment_id.mip_table'\n"
     ]
    },
    {
     "name": "stderr",
     "output_type": "stream",
     "text": [
      "/Users/ar46/opt/anaconda3/lib/python3.7/site-packages/xarray/conventions.py:500: SerializationWarning: variable 'wtem' has multiple fill values {1e+20, 1e+20}, decoding all values to NaN.\n",
      "  decode_timedelta=decode_timedelta,\n"
     ]
    }
   ],
   "source": [
    "dset_dict = col.to_dataset_dict(cdf_kwargs={'chunks': {'time': 20}}, storage_options={'anon':True})"
   ]
  },
  {
   "cell_type": "code",
   "execution_count": 16,
   "metadata": {},
   "outputs": [],
   "source": [
    "#Alternate way to just search for what we want expname_filter = ['historical']\n",
    "#table_id_filter = 'Amon'\n",
    "#model_filter = 'GFDL-ESM4'\n",
    "#variable_id_filter = \"tas\"\n",
    "#cat = col.search(experiment=expname_filter, mip_table=table_id_filter,model=model_filter)"
   ]
  },
  {
   "cell_type": "code",
   "execution_count": 7,
   "metadata": {},
   "outputs": [
    {
     "ename": "NameError",
     "evalue": "name 'dset_dict' is not defined",
     "output_type": "error",
     "traceback": [
      "\u001b[0;31m---------------------------------------------------------------------------\u001b[0m",
      "\u001b[0;31mNameError\u001b[0m                                 Traceback (most recent call last)",
      "\u001b[0;32m<ipython-input-7-26166139799a>\u001b[0m in \u001b[0;36m<module>\u001b[0;34m\u001b[0m\n\u001b[0;32m----> 1\u001b[0;31m \u001b[0mhxr_gfdl_esm4\u001b[0m\u001b[0;34m=\u001b[0m \u001b[0mdset_dict\u001b[0m\u001b[0;34m[\u001b[0m\u001b[0;34m\"output.NOAA-GFDL.GFDL-ESM4.historical.Amon\"\u001b[0m\u001b[0;34m]\u001b[0m\u001b[0;34m\u001b[0m\u001b[0;34m\u001b[0m\u001b[0m\n\u001b[0m\u001b[1;32m      2\u001b[0m \u001b[0mfxr_gfdl_esm4\u001b[0m\u001b[0;34m=\u001b[0m \u001b[0mdset_dict\u001b[0m\u001b[0;34m[\u001b[0m\u001b[0;34m\"output.NOAA-GFDL.GFDL-ESM4.ssp370.Amon\"\u001b[0m\u001b[0;34m]\u001b[0m\u001b[0;34m\u001b[0m\u001b[0;34m\u001b[0m\u001b[0m\n\u001b[1;32m      3\u001b[0m \u001b[0;34m\u001b[0m\u001b[0m\n\u001b[1;32m      4\u001b[0m \u001b[0;31m#fxr = xr.open_dataset(file_future)\u001b[0m\u001b[0;34m\u001b[0m\u001b[0;34m\u001b[0m\u001b[0;34m\u001b[0m\u001b[0m\n\u001b[1;32m      5\u001b[0m \u001b[0;31m#hxr = xr.open_dataset(file_hist)\u001b[0m\u001b[0;34m\u001b[0m\u001b[0;34m\u001b[0m\u001b[0;34m\u001b[0m\u001b[0m\n",
      "\u001b[0;31mNameError\u001b[0m: name 'dset_dict' is not defined"
     ]
    }
   ],
   "source": [
    "hxr_gfdl_esm4= dset_dict[\"output.NOAA-GFDL.GFDL-ESM4.historical.Amon\"]\n",
    "fxr_gfdl_esm4= dset_dict[\"output.NOAA-GFDL.GFDL-ESM4.ssp370.Amon\"]\n",
    "\n",
    "\n",
    "#fxr = xr.open_dataset(file_future)\n",
    "#hxr = xr.open_dataset(file_hist)"
   ]
  },
  {
   "cell_type": "markdown",
   "metadata": {},
   "source": [
    "! GLOBAL MEAN \n",
    "let hgtas = tas[x=@ave,y=@ave,d=1,l=529:780@ave]\n"
   ]
  },
  {
   "cell_type": "code",
   "execution_count": 7,
   "metadata": {},
   "outputs": [],
   "source": [
    "lat1 = 60\n",
    "lat2 = 90"
   ]
  },
  {
   "cell_type": "code",
   "execution_count": 9,
   "metadata": {},
   "outputs": [],
   "source": [
    "tas = hxr_gfdl_esm4.tas\n",
    "weights = np.cos(np.deg2rad(tas.lat))\n",
    "weights.name = \"weights\""
   ]
  },
  {
   "cell_type": "markdown",
   "metadata": {},
   "source": [
    "!!!!!!!!!!!!!!!! COMPUTE BASELINE (1994-2014) TAS !!!!!!!!!!!!!!!!!!!!!!!!"
   ]
  },
  {
   "cell_type": "code",
   "execution_count": 10,
   "metadata": {},
   "outputs": [
    {
     "name": "stdout",
     "output_type": "stream",
     "text": [
      "[287.16173045]\n"
     ]
    }
   ],
   "source": [
    "hgtas = hxr_gfdl_esm4.tas.sel(time=slice(\"1994\", \"2014\"))\n",
    "hgtas = hgtas.weighted(weights)\n",
    "hgtas = hgtas.mean(dim=['lon','lat','time'])\n",
    "hgtas = hgtas.values\n",
    "print(hgtas) #(287.2) from ferret"
   ]
  },
  {
   "cell_type": "code",
   "execution_count": 11,
   "metadata": {},
   "outputs": [
    {
     "name": "stdout",
     "output_type": "stream",
     "text": [
      "[264.3833672]\n"
     ]
    }
   ],
   "source": [
    "hatas = hxr_gfdl_esm4.tas.sel(time=slice(\"1994\", \"2014\"),lat=slice(lat1, lat2))\n",
    "hatas = hatas.weighted(weights)\n",
    "hatas = hatas.mean(dim=['lon','lat','time'])\n",
    "hatas = hatas.values \n",
    "print(hatas)#hatas 264.5 from Ferret"
   ]
  },
  {
   "cell_type": "code",
   "execution_count": 12,
   "metadata": {},
   "outputs": [
    {
     "name": "stdout",
     "output_type": "stream",
     "text": [
      "[287.16173045] [264.3833672]\n"
     ]
    }
   ],
   "source": [
    "print(hgtas,hatas) #hatas 264.5 from Ferret"
   ]
  },
  {
   "attachments": {
    "image.png": {
     "image/png": "[encoded data removed]"
    }
   },
   "cell_type": "markdown",
   "metadata": {},
   "source": [
    "!!!!!!!!!!!!!!! COMPUTE SHORT-TERM (2020-2040) TAS !!!!!!!!!!!!!!!!!!!![image.png](attachment:image.png)"
   ]
  },
  {
   "cell_type": "code",
   "execution_count": 13,
   "metadata": {},
   "outputs": [
    {
     "name": "stdout",
     "output_type": "stream",
     "text": [
      "[287.75333068]\n"
     ]
    }
   ],
   "source": [
    "fgtas = fxr_gfdl_esm4.tas.sel(time=slice(\"2020\", \"2040\"))\n",
    "fgtas = fgtas.weighted(weights)\n",
    "fgtas = fgtas.mean(dim=['lon','lat','time'])\n",
    "fgtas_st = fgtas.values\n",
    "print(fgtas_st) #287.8 from Ferret"
   ]
  },
  {
   "cell_type": "code",
   "execution_count": 14,
   "metadata": {},
   "outputs": [
    {
     "name": "stdout",
     "output_type": "stream",
     "text": [
      "[265.49362442]\n"
     ]
    }
   ],
   "source": [
    "fatas = fxr_gfdl_esm4.tas.sel(time=slice(\"2020\", \"2040\"),lat=slice(lat1, lat2))\n",
    "fatas = fatas.weighted(weights)\n",
    "fatas = fatas.mean(dim=['lon','lat','time'])\n",
    "fatas_st = fatas.values\n",
    "print(fatas_st) #265.6 From ferret"
   ]
  },
  {
   "cell_type": "markdown",
   "metadata": {},
   "source": [
    "!!!!!!!!!!!!!!!! COMPUTE LONG-TERM (2080-2100) TAS !!!!!!!!!!!!!!!!!!!"
   ]
  },
  {
   "cell_type": "code",
   "execution_count": 15,
   "metadata": {},
   "outputs": [
    {
     "name": "stdout",
     "output_type": "stream",
     "text": [
      "[289.80264889]\n"
     ]
    }
   ],
   "source": [
    "fgtas_lt = fxr_gfdl_esm4.tas.sel(time=slice(\"2080\", \"2100\"))\n",
    "fgtas_lt = fgtas_lt.weighted(weights)\n",
    "fgtas_lt = fgtas_lt.mean(dim=['lon','lat','time'])\n",
    "fgtas_lt = fgtas_lt.values\n",
    "print(fgtas_lt) #289.8 from Ferret"
   ]
  },
  {
   "cell_type": "code",
   "execution_count": 16,
   "metadata": {},
   "outputs": [
    {
     "name": "stdout",
     "output_type": "stream",
     "text": [
      "[269.77492881]\n"
     ]
    }
   ],
   "source": [
    "fatas_lt = fxr_gfdl_esm4.tas.sel(time=slice(\"2080\", \"2100\"),lat=slice(lat1, lat2))\n",
    "fatas_lt = fatas_lt.weighted(weights)\n",
    "fatas_lt = fatas_lt.mean(dim=['lon','lat','time'])\n",
    "fatas_lt = fatas_lt.values\n",
    "print(fatas_lt) #269.8 from Ferret"
   ]
  },
  {
   "cell_type": "markdown",
   "metadata": {},
   "source": [
    "!!!!!!!!!!!!!!!!!!!! COMPUTE SHORT-TERM POLAR AMP !!!!!!!!!!!!!!!!!!!!"
   ]
  },
  {
   "cell_type": "markdown",
   "metadata": {},
   "source": [
    "GLOBAL WARMING"
   ]
  },
  {
   "cell_type": "code",
   "execution_count": 17,
   "metadata": {},
   "outputs": [
    {
     "data": {
      "text/plain": [
       "array([0.59160023])"
      ]
     },
     "execution_count": 17,
     "metadata": {},
     "output_type": "execute_result"
    }
   ],
   "source": [
    "g_tdiff_st = fgtas_st - hgtas\n",
    "g_tdiff_st"
   ]
  },
  {
   "cell_type": "markdown",
   "metadata": {},
   "source": [
    "ARCTIC WARMING"
   ]
  },
  {
   "cell_type": "code",
   "execution_count": 18,
   "metadata": {},
   "outputs": [
    {
     "data": {
      "text/plain": [
       "array([1.11025722])"
      ]
     },
     "execution_count": 18,
     "metadata": {},
     "output_type": "execute_result"
    }
   ],
   "source": [
    "a_tdiff_st = fatas_st - hatas\n",
    "a_tdiff_st"
   ]
  },
  {
   "cell_type": "markdown",
   "metadata": {},
   "source": [
    "! POLAR AMPLIFICATION SHORT-TERM (1.1/0.6=1.83)"
   ]
  },
  {
   "cell_type": "code",
   "execution_count": 19,
   "metadata": {},
   "outputs": [
    {
     "data": {
      "text/plain": [
       "array([1.87670178])"
      ]
     },
     "execution_count": 19,
     "metadata": {},
     "output_type": "execute_result"
    }
   ],
   "source": [
    "pamp_st = a_tdiff_st / g_tdiff_st\n",
    "pamp_st"
   ]
  },
  {
   "cell_type": "markdown",
   "metadata": {},
   "source": [
    "!!!!!!!!!!!!!!!!!!!! COMPUTE LONG-TERM POLAR AMP !!!!!!!!!!!!!!!!!!!!!"
   ]
  },
  {
   "cell_type": "code",
   "execution_count": 20,
   "metadata": {},
   "outputs": [
    {
     "name": "stdout",
     "output_type": "stream",
     "text": [
      "[289.80264889] [287.16173045]\n"
     ]
    },
    {
     "data": {
      "text/plain": [
       "array([2.64091844])"
      ]
     },
     "execution_count": 20,
     "metadata": {},
     "output_type": "execute_result"
    }
   ],
   "source": [
    "#GLOBAL WARMING\n",
    "print(fgtas_lt,hgtas)\n",
    "g_tdiff_lt = fgtas_lt - hgtas\n",
    "g_tdiff_lt #2.64"
   ]
  },
  {
   "cell_type": "code",
   "execution_count": 21,
   "metadata": {},
   "outputs": [
    {
     "data": {
      "text/plain": [
       "array([5.39156161])"
      ]
     },
     "execution_count": 21,
     "metadata": {},
     "output_type": "execute_result"
    }
   ],
   "source": [
    "#ARCTIC WARMING\n",
    "a_tdiff_lt = fatas_lt - hatas\n",
    "a_tdiff_lt #5.391561607460574\n"
   ]
  },
  {
   "cell_type": "markdown",
   "metadata": {},
   "source": [
    "! POLAR AMPLIFICATION LONG-TERM (5.3/2.6=2.04)"
   ]
  },
  {
   "cell_type": "code",
   "execution_count": 22,
   "metadata": {},
   "outputs": [
    {
     "data": {
      "text/plain": [
       "array([2.04154794])"
      ]
     },
     "execution_count": 22,
     "metadata": {},
     "output_type": "execute_result"
    }
   ],
   "source": [
    "pamp_lt = a_tdiff_lt / g_tdiff_lt\n",
    "pamp_lt #2.0415479396985075"
   ]
  },
  {
   "cell_type": "code",
   "execution_count": 23,
   "metadata": {},
   "outputs": [
    {
     "name": "stdout",
     "output_type": "stream",
     "text": [
      "POLAR AMP SHORT TERM: [1.87670178]\n",
      "POLAR AMP LONG TERM: [2.04154794]\n"
     ]
    }
   ],
   "source": [
    "print(\"POLAR AMP SHORT TERM:\", pamp_st) #1.8 from Ferret\n",
    "print(\"POLAR AMP LONG TERM:\", pamp_lt) #2.0 from Ferret"
   ]
  }
 ],
 "metadata": {
  "kernelspec": {
   "display_name": "Python 3",
   "language": "python",
   "name": "python3"
  },
  "language_info": {
   "codemirror_mode": {
    "name": "ipython",
    "version": 3
   },
   "file_extension": ".py",
   "mimetype": "text/x-python",
   "name": "python",
   "nbconvert_exporter": "python",
   "pygments_lexer": "ipython3",
   "version": "3.7.6"
  }
 },
 "nbformat": 4,
 "nbformat_minor": 4
}
