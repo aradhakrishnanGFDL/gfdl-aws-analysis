{
 "cells": [
  {
   "cell_type": "code",
   "execution_count": 2,
   "id": "6f9d4f3d-4369-4724-b5cf-0d6a50484c07",
   "metadata": {},
   "outputs": [],
   "source": [
    "from glob import glob\n",
    "import xarray as xr\n",
    "import cftime\n",
    "import nc_time_axis\n",
    "import numpy as np\n",
    "import matplotlib.pyplot as plt\n",
    "import intake, intake_esm\n",
    "from dask_gateway import Gateway\n",
    "import dask\n",
    "\n",
    "#! pip install cmip6_preprocessing\n",
    "from cmip6_preprocessing.preprocessing import (correct_units,rename_cmip6)"
   ]
  },
  {
   "cell_type": "code",
   "execution_count": 3,
   "id": "ace6fb1b-94b5-4b07-95ed-bed603a0680e",
   "metadata": {},
   "outputs": [
    {
     "ename": "NameError",
     "evalue": "name 'options' is not defined",
     "output_type": "error",
     "traceback": [
      "\u001b[0;31m---------------------------------------------------------------------------\u001b[0m",
      "\u001b[0;31mNameError\u001b[0m                                 Traceback (most recent call last)",
      "\u001b[0;32m<ipython-input-3-ed85a1950512>\u001b[0m in \u001b[0;36m<module>\u001b[0;34m\u001b[0m\n\u001b[1;32m     14\u001b[0m         \u001b[0mcluster\u001b[0m \u001b[0;34m=\u001b[0m \u001b[0mgateway\u001b[0m\u001b[0;34m.\u001b[0m\u001b[0mnew_cluster\u001b[0m\u001b[0;34m(\u001b[0m\u001b[0moptions\u001b[0m\u001b[0;34m)\u001b[0m\u001b[0;34m\u001b[0m\u001b[0;34m\u001b[0m\u001b[0m\n\u001b[1;32m     15\u001b[0m     \u001b[0;32mreturn\u001b[0m\u001b[0;34m(\u001b[0m\u001b[0mcluster\u001b[0m\u001b[0;34m)\u001b[0m\u001b[0;34m\u001b[0m\u001b[0;34m\u001b[0m\u001b[0m\n\u001b[0;32m---> 16\u001b[0;31m \u001b[0moptions\u001b[0m\u001b[0;34m.\u001b[0m\u001b[0mworker_memory\u001b[0m\u001b[0;34m=\u001b[0m\u001b[0;36m14\u001b[0m\u001b[0;34m\u001b[0m\u001b[0;34m\u001b[0m\u001b[0m\n\u001b[0m\u001b[1;32m     17\u001b[0m \u001b[0moptions\u001b[0m\u001b[0;34m.\u001b[0m\u001b[0mworker_cores\u001b[0m\u001b[0;34m=\u001b[0m\u001b[0;36m2\u001b[0m\u001b[0;34m\u001b[0m\u001b[0;34m\u001b[0m\u001b[0m\n\u001b[1;32m     18\u001b[0m \u001b[0mcluster\u001b[0m \u001b[0;34m=\u001b[0m \u001b[0mlaunchDask\u001b[0m\u001b[0;34m(\u001b[0m\u001b[0moptions\u001b[0m\u001b[0;34m)\u001b[0m\u001b[0;34m\u001b[0m\u001b[0;34m\u001b[0m\u001b[0m\n",
      "\u001b[0;31mNameError\u001b[0m: name 'options' is not defined"
     ]
    }
   ],
   "source": [
    "def launchDask(options):\n",
    "    #TODO try, except\n",
    "    gateway = Gateway()\n",
    "    clusters = gateway.list_clusters()\n",
    "    print(clusters)\n",
    "    if len(clusters) == 1:\n",
    "        cluster = gateway.connect(clusters[0].name)\n",
    "        print(\"shutdown existing connection\",clusters[0].name )#or shut down and start afresh cluster.shutdown(). otherwise I dunno how to apply custom options\n",
    "        cluster.shutdown()\n",
    "        cluster = gateway.new_cluster(options)\n",
    "    elif (len(clusters)) > 1:\n",
    "        print(\"check open cluster connections and then proceed\")\n",
    "    else:\n",
    "        cluster = gateway.new_cluster(options)\n",
    "    return(cluster)\n",
    "options.worker_memory=14\n",
    "options.worker_cores=2\n",
    "cluster = launchDask(options)\n",
    "\n",
    "cluster.scale(20)\n",
    "client = cluster.get_client()\n",
    "dask.config.set({\"distributed.comm.timeouts.tcp\": \"50\"})"
   ]
  },
  {
   "cell_type": "code",
   "execution_count": null,
   "id": "db5d4ebb-5ab4-4401-b622-97198d3674fa",
   "metadata": {},
   "outputs": [],
   "source": [
    "client"
   ]
  },
  {
   "cell_type": "code",
   "execution_count": null,
   "id": "1fa0697a-4e26-4314-9d3e-fefa6479040d",
   "metadata": {},
   "outputs": [],
   "source": [
    "# Pass this function for preprocessing thetao data \n",
    "# Necessary for creating a common time axis for all models\n",
    "# We want to create a common time axis so there will be no gaps when plotting the results \n",
    "\n",
    "def fix_time(ds):\n",
    "    \"\"\" force calendar to noleap\"\"\"\n",
    "    import xarray as xr\n",
    "    \n",
    "    if \"time\" not in ds.dims:\n",
    "        return ds\n",
    "    \n",
    "    if (\"calendar\" not in ds[\"time\"].attrs): \n",
    "        ds[\"time\"].attrs.update({\"calendar\": \"noleap\"})\n",
    "        \n",
    "    if ds[\"time\"].attrs[\"calendar\"] not in [\"noleap\", \"NOLEAP\", \"365_day\"]:\n",
    "        ds[\"time\"].attrs.update({\"calendar\": \"noleap\"})\n",
    "        \n",
    "    ds = xr.decode_cf(ds)\n",
    "    return ds\n",
    "\n",
    "def pp_thetao(ds):\n",
    "    ds = rename_cmip6(ds)\n",
    "    ds = fix_time(ds)\n",
    "    ds = correct_units(ds)\n",
    "    return ds"
   ]
  },
  {
   "cell_type": "code",
   "execution_count": null,
   "id": "3b698d65-3575-43e4-a5f9-e4bfc632a93a",
   "metadata": {},
   "outputs": [],
   "source": [
    "col_url = \"https://cmip6-nc.s3.us-east-2.amazonaws.com/esgf-world.json\"\n",
    "col = intake.open_esm_datastore(col_url)\n",
    "esmcol_data = col.esmcol_data\n",
    "col"
   ]
  },
  {
   "cell_type": "code",
   "execution_count": null,
   "id": "4c14ebec-4a24-4158-856a-59cc17f56a03",
   "metadata": {},
   "outputs": [],
   "source": [
    "# Search for what you want by creating a query \n",
    "gr_models = ['GISS-E2-1-H']#,'GFDL-CM4']#,'GFDL-ESM4']#,'CESM2','CESM2-FV2','CESM2-WACCM-FV2','E3SM-1-1-ECA',\n",
    "\n",
    "OHC_query = dict(\n",
    "    variable=['thetao'],\n",
    "     experiment_id=[\"historical\"],\n",
    "     mip_table=[\"Omon\"],\n",
    "     grid_label=['gr'],\n",
    "     ensemble_member=\"r1i1p1f1\",\n",
    "     model = gr_models\n",
    ")\n",
    "\n",
    "cat_T_gr = col.search(**OHC_query)\n",
    "\n",
    "cat_T_gr.df.groupby(['model','variable']).nunique()\n",
    "\n"
   ]
  },
  {
   "cell_type": "code",
   "execution_count": null,
   "id": "6decc835-575f-4110-a39d-97e45c2c0378",
   "metadata": {},
   "outputs": [],
   "source": [
    "dset_dict_T = cat_T_gr.to_dataset_dict(cdf_kwargs={'decode_times': False, 'chunks': {'time': 1}},\n",
    "                               storage_options={'anon':True}, preprocess = pp_thetao)"
   ]
  },
  {
   "cell_type": "code",
   "execution_count": null,
   "id": "ef96f54c-8c68-4374-b6ea-24162c30eb84",
   "metadata": {},
   "outputs": [],
   "source": []
  }
 ],
 "metadata": {
  "kernelspec": {
   "display_name": "Python 3",
   "language": "python",
   "name": "python3"
  },
  "language_info": {
   "codemirror_mode": {
    "name": "ipython",
    "version": 3
   },
   "file_extension": ".py",
   "mimetype": "text/x-python",
   "name": "python",
   "nbconvert_exporter": "python",
   "pygments_lexer": "ipython3",
   "version": "3.8.10"
  }
 },
 "nbformat": 4,
 "nbformat_minor": 5
}
